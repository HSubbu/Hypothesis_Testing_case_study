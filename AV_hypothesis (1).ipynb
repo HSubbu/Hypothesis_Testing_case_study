{
  "nbformat": 4,
  "nbformat_minor": 0,
  "metadata": {
    "colab": {
      "name": "AV_hypothesis.ipynb",
      "provenance": []
    },
    "kernelspec": {
      "name": "python3",
      "display_name": "Python 3"
    },
    "language_info": {
      "name": "python"
    }
  },
  "cells": [
    {
      "cell_type": "code",
      "metadata": {
        "id": "Mau1bpTOREkB"
      },
      "source": [
        "from bs4 import BeautifulSoup\n",
        "import requests\n",
        "import pandas as pd \n",
        "import numpy as np"
      ],
      "execution_count": 33,
      "outputs": []
    },
    {
      "cell_type": "markdown",
      "metadata": {
        "id": "4Nef_NMRHdRH"
      },
      "source": [
        "THIS CODE DEMONSTRATES HYPOTHESIS TESTING  TO FIND IF MEAN PRICE OF IPHONE BETWEEN AMAZON.CO.IN AND FLIPKART.COM"
      ]
    },
    {
      "cell_type": "code",
      "metadata": {
        "id": "hEJ8bx-tRH_d"
      },
      "source": [
        "HEADERS = ({'User-Agent':\n",
        "            'Mozilla/5.0 (X11; Linux x86_64) AppleWebKit/537.36 (KHTML, like Gecko) Chrome/44.0.2403.157 Safari/537.36',\n",
        "            'Accept-Language': 'en-US, en;q=0.5'})"
      ],
      "execution_count": 34,
      "outputs": []
    },
    {
      "cell_type": "code",
      "metadata": {
        "id": "CXUgWDGMUCX-"
      },
      "source": [
        "def get_data(URL,tag,attrs):\n",
        "  ''' this function returns a list of price given url, tag and attrs'''\n",
        "  webpage = requests.get(URL, headers=HEADERS)\n",
        "  soup = BeautifulSoup(webpage.content, \"html.parser\")\n",
        "  price = soup.find_all(tag, attrs=attrs)\n",
        "  price_list =[]\n",
        "  \n",
        "  for p in price:\n",
        "      price_list.append(p.text)\n",
        "  return price_list"
      ],
      "execution_count": 35,
      "outputs": []
    },
    {
      "cell_type": "code",
      "metadata": {
        "id": "5FCx2EUyWtTY"
      },
      "source": [
        "#get iphone price from amazon\n",
        "amazon_url = \"https://www.amazon.in/s?k=iphones&ref=nb_sb_noss_2\"\n",
        "amz_attrs={'class':'a-price-whole'}\n",
        "amz_tag = \"span\"\n",
        "amazon_price = get_data(amazon_url,amz_tag,amz_attrs)"
      ],
      "execution_count": 36,
      "outputs": []
    },
    {
      "cell_type": "code",
      "metadata": {
        "colab": {
          "base_uri": "https://localhost:8080/"
        },
        "id": "n9cbs-NjXV4U",
        "outputId": "e0ab0958-4f22-4809-b6b5-761006bf412a"
      },
      "source": [
        "amazon_price"
      ],
      "execution_count": 37,
      "outputs": [
        {
          "output_type": "execute_result",
          "data": {
            "text/plain": [
              "['33,999',\n",
              " '78,133',\n",
              " '29,900',\n",
              " '47,900',\n",
              " '47,900',\n",
              " '33,999',\n",
              " '33,999',\n",
              " '38,999',\n",
              " '38,999',\n",
              " '97,900',\n",
              " '33,999',\n",
              " '38,999',\n",
              " '38,999',\n",
              " '95,900',\n",
              " '33,999',\n",
              " '33,999',\n",
              " '14,790',\n",
              " '69,900']"
            ]
          },
          "metadata": {},
          "execution_count": 37
        }
      ]
    },
    {
      "cell_type": "code",
      "metadata": {
        "id": "K7Z4DzMFXXEm"
      },
      "source": [
        "#get flipkart prices\n",
        "flipkart_url = \"https://www.flipkart.com/search?q=iphones&otracker=search&otracker1=search&marketplace=FLIPKART&as-show=on&as=off\"\n",
        "flip_attrs={'class':'_30jeq3 _1_WHN1'}\n",
        "flip_tag = \"div\"\n",
        "flipkart_price = get_data(flipkart_url,flip_tag,flip_attrs)"
      ],
      "execution_count": 38,
      "outputs": []
    },
    {
      "cell_type": "code",
      "metadata": {
        "colab": {
          "base_uri": "https://localhost:8080/"
        },
        "id": "TXTcNfyPZL7w",
        "outputId": "68db300a-4f45-4211-8965-abfa20a4220a"
      },
      "source": [
        "flipkart_price"
      ],
      "execution_count": 39,
      "outputs": [
        {
          "output_type": "execute_result",
          "data": {
            "text/plain": [
              "['₹59,999',\n",
              " '₹29,999',\n",
              " '₹64,999',\n",
              " '₹29,999',\n",
              " '₹54,999',\n",
              " '₹29,999',\n",
              " '₹64,999',\n",
              " '₹54,999',\n",
              " '₹54,999',\n",
              " '₹54,999',\n",
              " '₹59,999',\n",
              " '₹49,999',\n",
              " '₹54,999',\n",
              " '₹49,999',\n",
              " '₹49,999',\n",
              " '₹59,999',\n",
              " '₹49,999',\n",
              " '₹34,999',\n",
              " '₹34,999',\n",
              " '₹49,999',\n",
              " '₹34,999',\n",
              " '₹54,999',\n",
              " '₹59,999',\n",
              " '₹49,999']"
            ]
          },
          "metadata": {},
          "execution_count": 39
        }
      ]
    },
    {
      "cell_type": "code",
      "metadata": {
        "colab": {
          "base_uri": "https://localhost:8080/"
        },
        "id": "EV555BSiaAcW",
        "outputId": "7dc7d2ea-0c85-4ead-9fc4-708f30ce4d19"
      },
      "source": [
        "len(flipkart_price)"
      ],
      "execution_count": 40,
      "outputs": [
        {
          "output_type": "execute_result",
          "data": {
            "text/plain": [
              "24"
            ]
          },
          "metadata": {},
          "execution_count": 40
        }
      ]
    },
    {
      "cell_type": "code",
      "metadata": {
        "colab": {
          "base_uri": "https://localhost:8080/"
        },
        "id": "xft_UvqjaCl-",
        "outputId": "a2305069-59b6-408f-8e89-422fb7be6943"
      },
      "source": [
        "len(amazon_price)"
      ],
      "execution_count": 41,
      "outputs": [
        {
          "output_type": "execute_result",
          "data": {
            "text/plain": [
              "18"
            ]
          },
          "metadata": {},
          "execution_count": 41
        }
      ]
    },
    {
      "cell_type": "code",
      "metadata": {
        "colab": {
          "base_uri": "https://localhost:8080/",
          "height": 801
        },
        "id": "ZDvboISPZSNX",
        "outputId": "ae0535d2-3b8b-437b-cf16-c88c621b040c"
      },
      "source": [
        "#create a dataframe with these columns\n",
        "my_dict = {'amazon_rs':amazon_price,'flipkart_rs':flipkart_price}\n",
        "data = pd.DataFrame.from_dict(my_dict,orient='index').T.fillna(0,axis=1)\n",
        "data"
      ],
      "execution_count": 42,
      "outputs": [
        {
          "output_type": "execute_result",
          "data": {
            "text/html": [
              "<div>\n",
              "<style scoped>\n",
              "    .dataframe tbody tr th:only-of-type {\n",
              "        vertical-align: middle;\n",
              "    }\n",
              "\n",
              "    .dataframe tbody tr th {\n",
              "        vertical-align: top;\n",
              "    }\n",
              "\n",
              "    .dataframe thead th {\n",
              "        text-align: right;\n",
              "    }\n",
              "</style>\n",
              "<table border=\"1\" class=\"dataframe\">\n",
              "  <thead>\n",
              "    <tr style=\"text-align: right;\">\n",
              "      <th></th>\n",
              "      <th>amazon_rs</th>\n",
              "      <th>flipkart_rs</th>\n",
              "    </tr>\n",
              "  </thead>\n",
              "  <tbody>\n",
              "    <tr>\n",
              "      <th>0</th>\n",
              "      <td>33,999</td>\n",
              "      <td>₹59,999</td>\n",
              "    </tr>\n",
              "    <tr>\n",
              "      <th>1</th>\n",
              "      <td>78,133</td>\n",
              "      <td>₹29,999</td>\n",
              "    </tr>\n",
              "    <tr>\n",
              "      <th>2</th>\n",
              "      <td>29,900</td>\n",
              "      <td>₹64,999</td>\n",
              "    </tr>\n",
              "    <tr>\n",
              "      <th>3</th>\n",
              "      <td>47,900</td>\n",
              "      <td>₹29,999</td>\n",
              "    </tr>\n",
              "    <tr>\n",
              "      <th>4</th>\n",
              "      <td>47,900</td>\n",
              "      <td>₹54,999</td>\n",
              "    </tr>\n",
              "    <tr>\n",
              "      <th>5</th>\n",
              "      <td>33,999</td>\n",
              "      <td>₹29,999</td>\n",
              "    </tr>\n",
              "    <tr>\n",
              "      <th>6</th>\n",
              "      <td>33,999</td>\n",
              "      <td>₹64,999</td>\n",
              "    </tr>\n",
              "    <tr>\n",
              "      <th>7</th>\n",
              "      <td>38,999</td>\n",
              "      <td>₹54,999</td>\n",
              "    </tr>\n",
              "    <tr>\n",
              "      <th>8</th>\n",
              "      <td>38,999</td>\n",
              "      <td>₹54,999</td>\n",
              "    </tr>\n",
              "    <tr>\n",
              "      <th>9</th>\n",
              "      <td>97,900</td>\n",
              "      <td>₹54,999</td>\n",
              "    </tr>\n",
              "    <tr>\n",
              "      <th>10</th>\n",
              "      <td>33,999</td>\n",
              "      <td>₹59,999</td>\n",
              "    </tr>\n",
              "    <tr>\n",
              "      <th>11</th>\n",
              "      <td>38,999</td>\n",
              "      <td>₹49,999</td>\n",
              "    </tr>\n",
              "    <tr>\n",
              "      <th>12</th>\n",
              "      <td>38,999</td>\n",
              "      <td>₹54,999</td>\n",
              "    </tr>\n",
              "    <tr>\n",
              "      <th>13</th>\n",
              "      <td>95,900</td>\n",
              "      <td>₹49,999</td>\n",
              "    </tr>\n",
              "    <tr>\n",
              "      <th>14</th>\n",
              "      <td>33,999</td>\n",
              "      <td>₹49,999</td>\n",
              "    </tr>\n",
              "    <tr>\n",
              "      <th>15</th>\n",
              "      <td>33,999</td>\n",
              "      <td>₹59,999</td>\n",
              "    </tr>\n",
              "    <tr>\n",
              "      <th>16</th>\n",
              "      <td>14,790</td>\n",
              "      <td>₹49,999</td>\n",
              "    </tr>\n",
              "    <tr>\n",
              "      <th>17</th>\n",
              "      <td>69,900</td>\n",
              "      <td>₹34,999</td>\n",
              "    </tr>\n",
              "    <tr>\n",
              "      <th>18</th>\n",
              "      <td>0</td>\n",
              "      <td>₹34,999</td>\n",
              "    </tr>\n",
              "    <tr>\n",
              "      <th>19</th>\n",
              "      <td>0</td>\n",
              "      <td>₹49,999</td>\n",
              "    </tr>\n",
              "    <tr>\n",
              "      <th>20</th>\n",
              "      <td>0</td>\n",
              "      <td>₹34,999</td>\n",
              "    </tr>\n",
              "    <tr>\n",
              "      <th>21</th>\n",
              "      <td>0</td>\n",
              "      <td>₹54,999</td>\n",
              "    </tr>\n",
              "    <tr>\n",
              "      <th>22</th>\n",
              "      <td>0</td>\n",
              "      <td>₹59,999</td>\n",
              "    </tr>\n",
              "    <tr>\n",
              "      <th>23</th>\n",
              "      <td>0</td>\n",
              "      <td>₹49,999</td>\n",
              "    </tr>\n",
              "  </tbody>\n",
              "</table>\n",
              "</div>"
            ],
            "text/plain": [
              "   amazon_rs flipkart_rs\n",
              "0     33,999     ₹59,999\n",
              "1     78,133     ₹29,999\n",
              "2     29,900     ₹64,999\n",
              "3     47,900     ₹29,999\n",
              "4     47,900     ₹54,999\n",
              "5     33,999     ₹29,999\n",
              "6     33,999     ₹64,999\n",
              "7     38,999     ₹54,999\n",
              "8     38,999     ₹54,999\n",
              "9     97,900     ₹54,999\n",
              "10    33,999     ₹59,999\n",
              "11    38,999     ₹49,999\n",
              "12    38,999     ₹54,999\n",
              "13    95,900     ₹49,999\n",
              "14    33,999     ₹49,999\n",
              "15    33,999     ₹59,999\n",
              "16    14,790     ₹49,999\n",
              "17    69,900     ₹34,999\n",
              "18         0     ₹34,999\n",
              "19         0     ₹49,999\n",
              "20         0     ₹34,999\n",
              "21         0     ₹54,999\n",
              "22         0     ₹59,999\n",
              "23         0     ₹49,999"
            ]
          },
          "metadata": {},
          "execution_count": 42
        }
      ]
    },
    {
      "cell_type": "code",
      "metadata": {
        "colab": {
          "base_uri": "https://localhost:8080/",
          "height": 112
        },
        "id": "fKnuUrRPl4U0",
        "outputId": "7e20f29a-b634-4c3d-a4f6-1a8c51d23bf3"
      },
      "source": [
        "data.head(2)"
      ],
      "execution_count": 43,
      "outputs": [
        {
          "output_type": "execute_result",
          "data": {
            "text/html": [
              "<div>\n",
              "<style scoped>\n",
              "    .dataframe tbody tr th:only-of-type {\n",
              "        vertical-align: middle;\n",
              "    }\n",
              "\n",
              "    .dataframe tbody tr th {\n",
              "        vertical-align: top;\n",
              "    }\n",
              "\n",
              "    .dataframe thead th {\n",
              "        text-align: right;\n",
              "    }\n",
              "</style>\n",
              "<table border=\"1\" class=\"dataframe\">\n",
              "  <thead>\n",
              "    <tr style=\"text-align: right;\">\n",
              "      <th></th>\n",
              "      <th>amazon_rs</th>\n",
              "      <th>flipkart_rs</th>\n",
              "    </tr>\n",
              "  </thead>\n",
              "  <tbody>\n",
              "    <tr>\n",
              "      <th>0</th>\n",
              "      <td>33,999</td>\n",
              "      <td>₹59,999</td>\n",
              "    </tr>\n",
              "    <tr>\n",
              "      <th>1</th>\n",
              "      <td>78,133</td>\n",
              "      <td>₹29,999</td>\n",
              "    </tr>\n",
              "  </tbody>\n",
              "</table>\n",
              "</div>"
            ],
            "text/plain": [
              "  amazon_rs flipkart_rs\n",
              "0    33,999     ₹59,999\n",
              "1    78,133     ₹29,999"
            ]
          },
          "metadata": {},
          "execution_count": 43
        }
      ]
    },
    {
      "cell_type": "code",
      "metadata": {
        "id": "y8jxRB8PmJlA"
      },
      "source": [
        "#data preprocessing\n",
        "data['amazon_rs'] = data['amazon_rs'].str.replace(',','').astype(float)\n",
        "data['flipkart_rs'] = data['flipkart_rs'].str.strip('₹')\n",
        "data['flipkart_rs'] = data['flipkart_rs'].str.replace(',','').astype(float)"
      ],
      "execution_count": 44,
      "outputs": []
    },
    {
      "cell_type": "code",
      "metadata": {
        "colab": {
          "base_uri": "https://localhost:8080/"
        },
        "id": "ggPUaR62mIu-",
        "outputId": "4ef4bb65-2f75-4bab-e612-a6c0767934f0"
      },
      "source": [
        "data.dtypes"
      ],
      "execution_count": 45,
      "outputs": [
        {
          "output_type": "execute_result",
          "data": {
            "text/plain": [
              "amazon_rs      float64\n",
              "flipkart_rs    float64\n",
              "dtype: object"
            ]
          },
          "metadata": {},
          "execution_count": 45
        }
      ]
    },
    {
      "cell_type": "code",
      "metadata": {
        "colab": {
          "base_uri": "https://localhost:8080/",
          "height": 112
        },
        "id": "I0dz_zK4oN5f",
        "outputId": "f28a5b92-b66f-4e09-a016-7fd4d91c67e8"
      },
      "source": [
        "data.head(2)"
      ],
      "execution_count": 46,
      "outputs": [
        {
          "output_type": "execute_result",
          "data": {
            "text/html": [
              "<div>\n",
              "<style scoped>\n",
              "    .dataframe tbody tr th:only-of-type {\n",
              "        vertical-align: middle;\n",
              "    }\n",
              "\n",
              "    .dataframe tbody tr th {\n",
              "        vertical-align: top;\n",
              "    }\n",
              "\n",
              "    .dataframe thead th {\n",
              "        text-align: right;\n",
              "    }\n",
              "</style>\n",
              "<table border=\"1\" class=\"dataframe\">\n",
              "  <thead>\n",
              "    <tr style=\"text-align: right;\">\n",
              "      <th></th>\n",
              "      <th>amazon_rs</th>\n",
              "      <th>flipkart_rs</th>\n",
              "    </tr>\n",
              "  </thead>\n",
              "  <tbody>\n",
              "    <tr>\n",
              "      <th>0</th>\n",
              "      <td>33999.0</td>\n",
              "      <td>59999.0</td>\n",
              "    </tr>\n",
              "    <tr>\n",
              "      <th>1</th>\n",
              "      <td>78133.0</td>\n",
              "      <td>29999.0</td>\n",
              "    </tr>\n",
              "  </tbody>\n",
              "</table>\n",
              "</div>"
            ],
            "text/plain": [
              "   amazon_rs  flipkart_rs\n",
              "0    33999.0      59999.0\n",
              "1    78133.0      29999.0"
            ]
          },
          "metadata": {},
          "execution_count": 46
        }
      ]
    },
    {
      "cell_type": "code",
      "metadata": {
        "colab": {
          "base_uri": "https://localhost:8080/"
        },
        "id": "6_WnI2zqqvsR",
        "outputId": "9a10f5da-f9dc-4385-b818-b932014f917e"
      },
      "source": [
        "#testing samples for normality\n",
        "import scipy.stats as stats\n",
        "print(stats.shapiro(data['amazon_rs'].iloc[:18]))\n",
        "print(stats.shapiro(data['flipkart_rs']))"
      ],
      "execution_count": 47,
      "outputs": [
        {
          "output_type": "stream",
          "name": "stdout",
          "text": [
            "(0.7988661527633667, 0.0014639643486589193)\n",
            "(0.8666502833366394, 0.004526052623987198)\n"
          ]
        }
      ]
    },
    {
      "cell_type": "markdown",
      "metadata": {
        "id": "wz4yqC1vIOTT"
      },
      "source": [
        "The samples are not normal as p value < 0.05"
      ]
    },
    {
      "cell_type": "code",
      "metadata": {
        "colab": {
          "base_uri": "https://localhost:8080/"
        },
        "id": "nSs3t3tW7aCs",
        "outputId": "726e149b-12d7-48b9-a2df-6e1f29a2f3e1"
      },
      "source": [
        "import scipy.stats as stats\n",
        "# perform two-sided test. You can use 'greater' or 'less' for one-sided test\n",
        "stats.mannwhitneyu(x=data['amazon_rs'].iloc[:18], y=data['flipkart_rs'], alternative = 'two-sided')"
      ],
      "execution_count": 48,
      "outputs": [
        {
          "output_type": "execute_result",
          "data": {
            "text/plain": [
              "MannwhitneyuResult(statistic=150.0, pvalue=0.09413903738421849)"
            ]
          },
          "metadata": {},
          "execution_count": 48
        }
      ]
    },
    {
      "cell_type": "code",
      "metadata": {
        "id": "KYJdPxXh8tTl"
      },
      "source": [
        ""
      ],
      "execution_count": 48,
      "outputs": []
    }
  ]
}